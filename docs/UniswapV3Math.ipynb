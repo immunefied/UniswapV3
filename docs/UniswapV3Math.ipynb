{
 "cells": [
  {
   "cell_type": "markdown",
   "metadata": {},
   "source": [
    "# Uniswap Math\n",
    "Constant Product Market Maker </br>\n",
    "$(x + r \\Delta x) (y - \\Delta y) = xy$"
   ]
  },
  {
   "cell_type": "markdown",
   "metadata": {},
   "source": [
    "$\\Delta y = \\frac{x + r \\Delta x}{yr \\Delta x}$\n",
    "\n",
    "$\\Delta x = \\frac{r(y - \\Delta y)}{x \\Delta y}$"
   ]
  },
  {
   "cell_type": "markdown",
   "metadata": {},
   "source": [
    "# UniswapV3 Math\n",
    "Liquidity </br>\n",
    "$L = \\sqrt{xy}$ </br>\n",
    "\n",
    "Spot Price </br>\n",
    "$\\sqrt{P} = \\sqrt{\\frac{x}{y}}$ </br>\n",
    "\n",
    "$L = \\frac{\\Delta y}{\\Delta \\sqrt{P}}$ | $\\Delta y = L \\Delta \\sqrt{P}$ | $ \\Delta x = L \\Delta \\frac{1}{\\sqrt{P}} $ "
   ]
  },
  {
   "cell_type": "markdown",
   "metadata": {},
   "source": [
    "$ \\Delta x= ( \\frac{1}{\\sqrt{P_{c}}} - \\frac{1}{\\sqrt{P_{b}}}) L$</br>\n",
    "$ \\Delta y = (\\sqrt{P_{c}} - \\sqrt{P_{a}})L$</br>"
   ]
  },
  {
   "cell_type": "markdown",
   "metadata": {},
   "source": [
    "$ L = \\Delta x \\frac{\\sqrt{P_{b}} \\sqrt{P_{c}}}{\\sqrt{P_{b}} - \\sqrt{P_{c}}}$ </br>\n",
    "$ L = \\frac{ \\Delta y}{\\sqrt{P_{c} - \\sqrt{P_{a}}}} $ </br>"
   ]
  },
  {
   "cell_type": "markdown",
   "metadata": {},
   "source": [
    "$ [log_{1.0001} 2^{-128} , log_{1.0001} 2^{128}  ]=[−887272,887272] $ </br>"
   ]
  },
  {
   "cell_type": "markdown",
   "metadata": {},
   "source": [
    "$ \\sqrt{P(i)} = 1.0001^{ \\frac{i}{2}}$ </br>"
   ]
  },
  {
   "cell_type": "markdown",
   "metadata": {},
   "source": [
    "- Calculate the tick for a given price </br>\n",
    "$i = log_{1.0001} \\sqrt{P(i)}$ </br>"
   ]
  }
 ],
 "metadata": {
  "language_info": {
   "name": "python"
  }
 },
 "nbformat": 4,
 "nbformat_minor": 2
}
